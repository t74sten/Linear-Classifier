{
 "cells": [
  {
   "cell_type": "code",
   "execution_count": 36,
   "id": "a23d11b4",
   "metadata": {},
   "outputs": [
    {
     "name": "stderr",
     "output_type": "stream",
     "text": [
      "[nltk_data] Downloading package stopwords to\n",
      "[nltk_data]     C:\\Users\\dotsenko_vv\\AppData\\Roaming\\nltk_data...\n",
      "[nltk_data]   Package stopwords is already up-to-date!\n"
     ]
    }
   ],
   "source": [
    "import pandas as pd\n",
    "import numpy as np\n",
    "import warnings\n",
    "import iv_woe\n",
    "import re\n",
    "import nltk\n",
    "nltk.download('stopwords')\n",
    "from nltk.corpus import stopwords\n",
    "from nltk.stem.porter import PorterStemmer\n",
    "from nltk.stem import LancasterStemmer\n",
    "from nltk.tokenize import word_tokenize \n",
    "from sklearn.feature_extraction.text import TfidfVectorizer\n",
    "from sklearn.model_selection import cross_validate"
   ]
  },
  {
   "cell_type": "code",
   "execution_count": 71,
   "id": "834dc46e",
   "metadata": {},
   "outputs": [],
   "source": [
    "X_train = pd.read_csv('imdb_train.csv')\n",
    "Y_train = pd.read_csv('y_imdb_train.csv')\n",
    "X_test = pd.read_csv('imdb_test.csv')"
   ]
  },
  {
   "cell_type": "code",
   "execution_count": 72,
   "id": "d465a505",
   "metadata": {},
   "outputs": [
    {
     "data": {
      "text/plain": [
       "\"This fake documentary is flawed on a lot of points, it's badly made, has uninteresting characters but the biggest problem I have with it is the basic premise.<br /><br />This film uses the idea that H.P. Lovecraft has traveled to Italy and that some of his work is based on real supernatural events that he witnessed. I'm willing to go along with the notion that he traveled to Italy (only for suspension of disbelieve) but that some of his work is based on reality and that Insmouth exist is total nonsense.<br /><br />First of all, Lovecraft didn't believe in the supernatural, in his letters he clearly states that he considered himself a mechanical materialist, his monsters where there to show that humans weren't so special after all. Another myth used in this film is that Lovecraft was an expert on the occult, he wasn't, all his knowledge on the subject came from the most basic sources.<br /><br />So we end up with a film about people jelling at each other a lot and when we finally see the monster, it's so bad that you can't even laugh at it, you just feel a pain in your love for horror.<br /><br />After seeing the film Frankenstein Lovecraft said that he felt sorry for Mary Shelley because he felt that her work was butchered. I feel sorry for Lovecraft.\""
      ]
     },
     "execution_count": 72,
     "metadata": {},
     "output_type": "execute_result"
    }
   ],
   "source": [
    "X_train['review'][2]"
   ]
  },
  {
   "cell_type": "code",
   "execution_count": 73,
   "id": "eb20b366",
   "metadata": {},
   "outputs": [
    {
     "data": {
      "text/plain": [
       "(50000, 2)"
      ]
     },
     "execution_count": 73,
     "metadata": {},
     "output_type": "execute_result"
    }
   ],
   "source": [
    "XX = pd.concat([X_test,X_train], axis = 0)\n",
    "XX.shape"
   ]
  },
  {
   "cell_type": "code",
   "execution_count": 74,
   "id": "7dad7f33",
   "metadata": {},
   "outputs": [
    {
     "data": {
      "text/html": [
       "<div>\n",
       "<style scoped>\n",
       "    .dataframe tbody tr th:only-of-type {\n",
       "        vertical-align: middle;\n",
       "    }\n",
       "\n",
       "    .dataframe tbody tr th {\n",
       "        vertical-align: top;\n",
       "    }\n",
       "\n",
       "    .dataframe thead th {\n",
       "        text-align: right;\n",
       "    }\n",
       "</style>\n",
       "<table border=\"1\" class=\"dataframe\">\n",
       "  <thead>\n",
       "    <tr style=\"text-align: right;\">\n",
       "      <th></th>\n",
       "      <th>review</th>\n",
       "      <th>id</th>\n",
       "    </tr>\n",
       "  </thead>\n",
       "  <tbody>\n",
       "    <tr>\n",
       "      <th>0</th>\n",
       "      <td>I give this movie an A+ for the sheer camp of ...</td>\n",
       "      <td>0.0</td>\n",
       "    </tr>\n",
       "    <tr>\n",
       "      <th>1</th>\n",
       "      <td>This is a wonderful new crime series, bringing...</td>\n",
       "      <td>1.0</td>\n",
       "    </tr>\n",
       "    <tr>\n",
       "      <th>2</th>\n",
       "      <td>Another demonstration of Kurosawa's genius, hi...</td>\n",
       "      <td>2.0</td>\n",
       "    </tr>\n",
       "    <tr>\n",
       "      <th>3</th>\n",
       "      <td>Err...this movie sucked. A LOT.&lt;br /&gt;&lt;br /&gt;I h...</td>\n",
       "      <td>3.0</td>\n",
       "    </tr>\n",
       "    <tr>\n",
       "      <th>4</th>\n",
       "      <td>AWiP tries to be funny, scary, tense, and roma...</td>\n",
       "      <td>4.0</td>\n",
       "    </tr>\n",
       "    <tr>\n",
       "      <th>...</th>\n",
       "      <td>...</td>\n",
       "      <td>...</td>\n",
       "    </tr>\n",
       "    <tr>\n",
       "      <th>39995</th>\n",
       "      <td>Opera was filmed in synchronization with a var...</td>\n",
       "      <td>NaN</td>\n",
       "    </tr>\n",
       "    <tr>\n",
       "      <th>39996</th>\n",
       "      <td>Stay the hell away from this one... No, really...</td>\n",
       "      <td>NaN</td>\n",
       "    </tr>\n",
       "    <tr>\n",
       "      <th>39997</th>\n",
       "      <td>When Melville's \"Pierre; or The Ambiguities\" h...</td>\n",
       "      <td>NaN</td>\n",
       "    </tr>\n",
       "    <tr>\n",
       "      <th>39998</th>\n",
       "      <td>Beautifully photographed and ably acted, gener...</td>\n",
       "      <td>NaN</td>\n",
       "    </tr>\n",
       "    <tr>\n",
       "      <th>39999</th>\n",
       "      <td>Any evening with Jonathan Ross now means to me...</td>\n",
       "      <td>NaN</td>\n",
       "    </tr>\n",
       "  </tbody>\n",
       "</table>\n",
       "<p>50000 rows × 2 columns</p>\n",
       "</div>"
      ],
      "text/plain": [
       "                                                  review   id\n",
       "0      I give this movie an A+ for the sheer camp of ...  0.0\n",
       "1      This is a wonderful new crime series, bringing...  1.0\n",
       "2      Another demonstration of Kurosawa's genius, hi...  2.0\n",
       "3      Err...this movie sucked. A LOT.<br /><br />I h...  3.0\n",
       "4      AWiP tries to be funny, scary, tense, and roma...  4.0\n",
       "...                                                  ...  ...\n",
       "39995  Opera was filmed in synchronization with a var...  NaN\n",
       "39996  Stay the hell away from this one... No, really...  NaN\n",
       "39997  When Melville's \"Pierre; or The Ambiguities\" h...  NaN\n",
       "39998  Beautifully photographed and ably acted, gener...  NaN\n",
       "39999  Any evening with Jonathan Ross now means to me...  NaN\n",
       "\n",
       "[50000 rows x 2 columns]"
      ]
     },
     "execution_count": 74,
     "metadata": {},
     "output_type": "execute_result"
    }
   ],
   "source": [
    "XX"
   ]
  },
  {
   "cell_type": "code",
   "execution_count": 75,
   "id": "b7ec04e7",
   "metadata": {},
   "outputs": [
    {
     "data": {
      "text/plain": [
       "\"This is a wonderful new crime series, bringing together three old stalwarts of British television (Denis Waterman, James Bolam and Alun Armstrong) as retired detectives brought back to help clear up old cases, under the leadership of younger, career-focused Amanda Redman. The three quirky, irritable old cops make a brilliant team, applying twenty-year old detection methods in a police force which has moved a long way on since then - sometimes with effect, at other times to the horror of their senior officers. The three are portrayed sympathetically, warts and all. There are splendid comic scenes, and some very moving ones as each of the three has to come to terms with growing old and the legacy of their pasts.<br /><br />At the end of the first six-part series (we are promised a further series next year) each of the characters had developed. Widower James Bolam cannot come to terms with his wife's untimely death. Lothario Denis Waterman is learning to accept his role as grandfather. And even obsessive Alun Armstrong is helped by his new friends to fight the demons of his past - and keep taking the medication! While Amanda Redman has to face the all-too-familiar conflict between having a life and a career. The story lines have been interesting, if rather heavily dependent on the wonders of DNA-testing. But it is the interplay of four of Britain's finest actors which has made the series unmissable.\""
      ]
     },
     "execution_count": 75,
     "metadata": {},
     "output_type": "execute_result"
    }
   ],
   "source": [
    "XX.iloc[1]['review']"
   ]
  },
  {
   "cell_type": "code",
   "execution_count": 76,
   "id": "87179481",
   "metadata": {},
   "outputs": [],
   "source": [
    "# убираем \"(<.*?>)\" теги\n",
    "XX['review'] = XX['review'].apply(lambda x: re.sub('(<.*?>)', ' ', x))\n",
    "\n",
    "# убираем пунктуацию\n",
    "XX['review'] = XX['review'].apply(lambda x: re.sub('[,\\.!?:()\"]', '', x))\n",
    "    \n",
    "# убираем лишние пробелы\n",
    "XX['review'] = XX['review'].apply(lambda x: x.strip())\n",
    "\n",
    "# убираем все небуквенное\n",
    "XX['review'] = XX['review'].apply(lambda x: re.sub('[^a-zA-Z\"]',' ',x))\n",
    "    \n",
    "# переводим к нижнему регистру\n",
    "XX['review'] = XX['review'].apply(lambda x: x.lower())"
   ]
  },
  {
   "cell_type": "code",
   "execution_count": 77,
   "id": "49245303",
   "metadata": {},
   "outputs": [
    {
     "data": {
      "text/plain": [
       "'this is a wonderful new crime series bringing together three old stalwarts of british television denis waterman james bolam and alun armstrong as retired detectives brought back to help clear up old cases under the leadership of younger career focused amanda redman the three quirky irritable old cops make a brilliant team applying twenty year old detection methods in a police force which has moved a long way on since then   sometimes with effect at other times to the horror of their senior officers the three are portrayed sympathetically warts and all there are splendid comic scenes and some very moving ones as each of the three has to come to terms with growing old and the legacy of their pasts  at the end of the first six part series we are promised a further series next year each of the characters had developed widower james bolam cannot come to terms with his wife s untimely death lothario denis waterman is learning to accept his role as grandfather and even obsessive alun armstrong is helped by his new friends to fight the demons of his past   and keep taking the medication while amanda redman has to face the all too familiar conflict between having a life and a career the story lines have been interesting if rather heavily dependent on the wonders of dna testing but it is the interplay of four of britain s finest actors which has made the series unmissable'"
      ]
     },
     "execution_count": 77,
     "metadata": {},
     "output_type": "execute_result"
    }
   ],
   "source": [
    "XX.iloc[1]['review']"
   ]
  },
  {
   "cell_type": "code",
   "execution_count": 78,
   "id": "0222cca4",
   "metadata": {},
   "outputs": [],
   "source": [
    "XX['review'] = XX['review'].apply(lambda x: x.split())\n",
    "\n",
    "words = XX['review']\n",
    "\n",
    "stop_words = set(stopwords.words('english'))\n",
    "\n",
    "# Фильтруем стоп-слова\n",
    "filtered_words = words.apply(lambda x: [w for w in x if not w in stop_words])\n",
    "\n",
    "# Заталкиваем обратно в колонку\n",
    "XX['review'] = filtered_words.apply(lambda x: \" \".join(x))"
   ]
  },
  {
   "cell_type": "code",
   "execution_count": 79,
   "id": "08bea577",
   "metadata": {},
   "outputs": [
    {
     "data": {
      "text/plain": [
       "'wonderful new crime series bringing together three old stalwarts british television denis waterman james bolam alun armstrong retired detectives brought back help clear old cases leadership younger career focused amanda redman three quirky irritable old cops make brilliant team applying twenty year old detection methods police force moved long way since sometimes effect times horror senior officers three portrayed sympathetically warts splendid comic scenes moving ones three come terms growing old legacy pasts end first six part series promised series next year characters developed widower james bolam cannot come terms wife untimely death lothario denis waterman learning accept role grandfather even obsessive alun armstrong helped new friends fight demons past keep taking medication amanda redman face familiar conflict life career story lines interesting rather heavily dependent wonders dna testing interplay four britain finest actors made series unmissable'"
      ]
     },
     "execution_count": 79,
     "metadata": {},
     "output_type": "execute_result"
    }
   ],
   "source": [
    "XX.iloc[1]['review']"
   ]
  },
  {
   "cell_type": "code",
   "execution_count": null,
   "id": "2d5868c0",
   "metadata": {},
   "outputs": [],
   "source": []
  },
  {
   "cell_type": "code",
   "execution_count": 80,
   "id": "11dd7ab2",
   "metadata": {},
   "outputs": [],
   "source": [
    "XX_reserve = XX.copy()"
   ]
  },
  {
   "cell_type": "code",
   "execution_count": 81,
   "id": "1d08107a",
   "metadata": {},
   "outputs": [],
   "source": [
    "train = XX[XX.id.isna()].drop('id', axis = 1).copy()\n",
    "test = XX[~XX.id.isna()].copy()"
   ]
  },
  {
   "cell_type": "code",
   "execution_count": 82,
   "id": "f9a08d77",
   "metadata": {},
   "outputs": [
    {
     "data": {
      "text/html": [
       "<div>\n",
       "<style scoped>\n",
       "    .dataframe tbody tr th:only-of-type {\n",
       "        vertical-align: middle;\n",
       "    }\n",
       "\n",
       "    .dataframe tbody tr th {\n",
       "        vertical-align: top;\n",
       "    }\n",
       "\n",
       "    .dataframe thead th {\n",
       "        text-align: right;\n",
       "    }\n",
       "</style>\n",
       "<table border=\"1\" class=\"dataframe\">\n",
       "  <thead>\n",
       "    <tr style=\"text-align: right;\">\n",
       "      <th></th>\n",
       "      <th>review</th>\n",
       "    </tr>\n",
       "  </thead>\n",
       "  <tbody>\n",
       "    <tr>\n",
       "      <th>0</th>\n",
       "      <td>came seeing movie decided see others thought l...</td>\n",
       "    </tr>\n",
       "    <tr>\n",
       "      <th>1</th>\n",
       "      <td>hard assign fair number stars film settled hig...</td>\n",
       "    </tr>\n",
       "    <tr>\n",
       "      <th>2</th>\n",
       "      <td>fake documentary flawed lot points badly made ...</td>\n",
       "    </tr>\n",
       "    <tr>\n",
       "      <th>3</th>\n",
       "      <td>movie absolutely terrible definately bull stor...</td>\n",
       "    </tr>\n",
       "    <tr>\n",
       "      <th>4</th>\n",
       "      <td>imagine could bring things back life one touch...</td>\n",
       "    </tr>\n",
       "  </tbody>\n",
       "</table>\n",
       "</div>"
      ],
      "text/plain": [
       "                                              review\n",
       "0  came seeing movie decided see others thought l...\n",
       "1  hard assign fair number stars film settled hig...\n",
       "2  fake documentary flawed lot points badly made ...\n",
       "3  movie absolutely terrible definately bull stor...\n",
       "4  imagine could bring things back life one touch..."
      ]
     },
     "execution_count": 82,
     "metadata": {},
     "output_type": "execute_result"
    }
   ],
   "source": [
    "train.head(5)"
   ]
  },
  {
   "cell_type": "code",
   "execution_count": 83,
   "id": "5e47fc00",
   "metadata": {},
   "outputs": [
    {
     "data": {
      "text/html": [
       "<div>\n",
       "<style scoped>\n",
       "    .dataframe tbody tr th:only-of-type {\n",
       "        vertical-align: middle;\n",
       "    }\n",
       "\n",
       "    .dataframe tbody tr th {\n",
       "        vertical-align: top;\n",
       "    }\n",
       "\n",
       "    .dataframe thead th {\n",
       "        text-align: right;\n",
       "    }\n",
       "</style>\n",
       "<table border=\"1\" class=\"dataframe\">\n",
       "  <thead>\n",
       "    <tr style=\"text-align: right;\">\n",
       "      <th></th>\n",
       "      <th>review</th>\n",
       "      <th>id</th>\n",
       "    </tr>\n",
       "  </thead>\n",
       "  <tbody>\n",
       "    <tr>\n",
       "      <th>0</th>\n",
       "      <td>give movie sheer camp dietrich daughter maria ...</td>\n",
       "      <td>0.0</td>\n",
       "    </tr>\n",
       "    <tr>\n",
       "      <th>1</th>\n",
       "      <td>wonderful new crime series bringing together t...</td>\n",
       "      <td>1.0</td>\n",
       "    </tr>\n",
       "    <tr>\n",
       "      <th>2</th>\n",
       "      <td>another demonstration kurosawa genius first co...</td>\n",
       "      <td>2.0</td>\n",
       "    </tr>\n",
       "    <tr>\n",
       "      <th>3</th>\n",
       "      <td>errthis movie sucked lot reading reviews appar...</td>\n",
       "      <td>3.0</td>\n",
       "    </tr>\n",
       "    <tr>\n",
       "      <th>4</th>\n",
       "      <td>awip tries funny scary tense romantic fails ev...</td>\n",
       "      <td>4.0</td>\n",
       "    </tr>\n",
       "  </tbody>\n",
       "</table>\n",
       "</div>"
      ],
      "text/plain": [
       "                                              review   id\n",
       "0  give movie sheer camp dietrich daughter maria ...  0.0\n",
       "1  wonderful new crime series bringing together t...  1.0\n",
       "2  another demonstration kurosawa genius first co...  2.0\n",
       "3  errthis movie sucked lot reading reviews appar...  3.0\n",
       "4  awip tries funny scary tense romantic fails ev...  4.0"
      ]
     },
     "execution_count": 83,
     "metadata": {},
     "output_type": "execute_result"
    }
   ],
   "source": [
    "test.head(5)"
   ]
  },
  {
   "cell_type": "code",
   "execution_count": 91,
   "id": "ec9bf1c9",
   "metadata": {},
   "outputs": [
    {
     "data": {
      "text/plain": [
       "((32000, 1), (8000, 1))"
      ]
     },
     "execution_count": 91,
     "metadata": {},
     "output_type": "execute_result"
    }
   ],
   "source": [
    "tfidf = TfidfVectorizer()\n",
    "from sklearn.model_selection import train_test_split\n",
    "\n",
    "x_train, x_test, y_train, y_test = train_test_split(train, Y_train, test_size = 0.2, random_state = 42)\n",
    "x_train.shape, x_test.shape"
   ]
  },
  {
   "cell_type": "code",
   "execution_count": 92,
   "id": "46c3a4d9",
   "metadata": {},
   "outputs": [
    {
     "data": {
      "text/plain": [
       "<32000x98515 sparse matrix of type '<class 'numpy.float64'>'\n",
       "\twith 3104982 stored elements in Compressed Sparse Row format>"
      ]
     },
     "execution_count": 92,
     "metadata": {},
     "output_type": "execute_result"
    }
   ],
   "source": [
    "x_train = tfidf.fit_transform(x_train.review)\n",
    "x_train"
   ]
  },
  {
   "cell_type": "code",
   "execution_count": 93,
   "id": "5d3ca6b5",
   "metadata": {},
   "outputs": [
    {
     "data": {
      "text/plain": [
       "<10000x98515 sparse matrix of type '<class 'numpy.float64'>'\n",
       "\twith 960779 stored elements in Compressed Sparse Row format>"
      ]
     },
     "execution_count": 93,
     "metadata": {},
     "output_type": "execute_result"
    }
   ],
   "source": [
    "X_test_v1 = tfidf.transform(X_test.review)\n",
    "X_test_v1"
   ]
  },
  {
   "cell_type": "code",
   "execution_count": 94,
   "id": "8d40a2a6",
   "metadata": {},
   "outputs": [
    {
     "data": {
      "text/plain": [
       "<8000x98515 sparse matrix of type '<class 'numpy.float64'>'\n",
       "\twith 755076 stored elements in Compressed Sparse Row format>"
      ]
     },
     "execution_count": 94,
     "metadata": {},
     "output_type": "execute_result"
    }
   ],
   "source": [
    "x_test = tfidf.transform(x_test.review)\n",
    "x_test"
   ]
  },
  {
   "cell_type": "code",
   "execution_count": null,
   "id": "6430e1fb",
   "metadata": {},
   "outputs": [],
   "source": []
  },
  {
   "cell_type": "code",
   "execution_count": 95,
   "id": "8d736b38",
   "metadata": {},
   "outputs": [],
   "source": [
    "from sklearn.linear_model import LogisticRegression\n",
    "clf_lr = LogisticRegression(solver = 'liblinear', penalty = 'l1', C = 2)"
   ]
  },
  {
   "cell_type": "code",
   "execution_count": 96,
   "id": "e3ec9f10",
   "metadata": {},
   "outputs": [
    {
     "data": {
      "text/plain": [
       "LogisticRegression(C=2, penalty='l1', solver='liblinear')"
      ]
     },
     "execution_count": 96,
     "metadata": {},
     "output_type": "execute_result"
    }
   ],
   "source": [
    "clf_lr.fit(x_train, y_train.sentiment)"
   ]
  },
  {
   "cell_type": "code",
   "execution_count": 97,
   "id": "de54c4f3",
   "metadata": {},
   "outputs": [],
   "source": [
    "predictions_v1 = clf_lr.predict_proba(x_test)"
   ]
  },
  {
   "cell_type": "code",
   "execution_count": 98,
   "id": "a0eee579",
   "metadata": {},
   "outputs": [],
   "source": [
    "from sklearn.metrics import roc_auc_score, roc_curve,accuracy_score"
   ]
  },
  {
   "cell_type": "code",
   "execution_count": 99,
   "id": "6dfe8465",
   "metadata": {},
   "outputs": [
    {
     "data": {
      "text/plain": [
       "(32000, 1)"
      ]
     },
     "execution_count": 99,
     "metadata": {},
     "output_type": "execute_result"
    }
   ],
   "source": [
    "y_train.shape"
   ]
  },
  {
   "cell_type": "code",
   "execution_count": 100,
   "id": "674e5606",
   "metadata": {},
   "outputs": [
    {
     "data": {
      "text/plain": [
       "array([9.88133055e-01, 1.12294626e-01, 3.06358837e-05, ...,\n",
       "       7.49736643e-02, 5.25021833e-05, 3.83641346e-01])"
      ]
     },
     "execution_count": 100,
     "metadata": {},
     "output_type": "execute_result"
    }
   ],
   "source": [
    "clf_lr.predict_proba(x_train)[:,1]"
   ]
  },
  {
   "cell_type": "markdown",
   "id": "955328a2",
   "metadata": {},
   "source": [
    "## На обучающей выборке"
   ]
  },
  {
   "cell_type": "code",
   "execution_count": 101,
   "id": "82e3e61c",
   "metadata": {},
   "outputs": [
    {
     "data": {
      "text/plain": [
       "0.9774357157394432"
      ]
     },
     "execution_count": 101,
     "metadata": {},
     "output_type": "execute_result"
    }
   ],
   "source": [
    "roc_auc_score(y_train,clf_lr.predict_proba(x_train)[:,1])"
   ]
  },
  {
   "cell_type": "markdown",
   "id": "d56ab222",
   "metadata": {},
   "source": [
    "## На тестовой выборке"
   ]
  },
  {
   "cell_type": "code",
   "execution_count": 102,
   "id": "05ecee40",
   "metadata": {},
   "outputs": [
    {
     "data": {
      "text/plain": [
       "0.9580303132115158"
      ]
     },
     "execution_count": 102,
     "metadata": {},
     "output_type": "execute_result"
    }
   ],
   "source": [
    "roc_auc_score(y_test,clf_lr.predict_proba(x_test)[:,1])"
   ]
  },
  {
   "cell_type": "code",
   "execution_count": null,
   "id": "6d16bf4d",
   "metadata": {},
   "outputs": [],
   "source": []
  },
  {
   "cell_type": "code",
   "execution_count": 106,
   "id": "83c7203a",
   "metadata": {},
   "outputs": [],
   "source": [
    "fpr, tpr, thresh = roc_curve(y_test,clf_lr.predict_proba(x_test)[:,1])"
   ]
  },
  {
   "cell_type": "code",
   "execution_count": 107,
   "id": "6db73bce",
   "metadata": {},
   "outputs": [],
   "source": [
    "import matplotlib.pyplot as plt"
   ]
  },
  {
   "cell_type": "code",
   "execution_count": 108,
   "id": "9500680d",
   "metadata": {},
   "outputs": [
    {
     "data": {
      "text/plain": [
       "[<matplotlib.lines.Line2D at 0x294303d0370>]"
      ]
     },
     "execution_count": 108,
     "metadata": {},
     "output_type": "execute_result"
    },
    {
     "data": {
      "image/png": "[encoded data removed]",
      "text/plain": [
       "<Figure size 432x288 with 1 Axes>"
      ]
     },
     "metadata": {
      "needs_background": "light"
     },
     "output_type": "display_data"
    }
   ],
   "source": [
    "plt.plot(fpr, tpr)"
   ]
  },
  {
   "cell_type": "code",
   "execution_count": 122,
   "id": "fb405be6",
   "metadata": {},
   "outputs": [],
   "source": [
    "my_answer = pd.DataFrame(clf_lr.predict(X_test_v1))"
   ]
  },
  {
   "cell_type": "code",
   "execution_count": 123,
   "id": "6e22bddd",
   "metadata": {},
   "outputs": [
    {
     "data": {
      "text/html": [
       "<div>\n",
       "<style scoped>\n",
       "    .dataframe tbody tr th:only-of-type {\n",
       "        vertical-align: middle;\n",
       "    }\n",
       "\n",
       "    .dataframe tbody tr th {\n",
       "        vertical-align: top;\n",
       "    }\n",
       "\n",
       "    .dataframe thead th {\n",
       "        text-align: right;\n",
       "    }\n",
       "</style>\n",
       "<table border=\"1\" class=\"dataframe\">\n",
       "  <thead>\n",
       "    <tr style=\"text-align: right;\">\n",
       "      <th></th>\n",
       "      <th>0</th>\n",
       "    </tr>\n",
       "  </thead>\n",
       "  <tbody>\n",
       "    <tr>\n",
       "      <th>0</th>\n",
       "      <td>1</td>\n",
       "    </tr>\n",
       "    <tr>\n",
       "      <th>1</th>\n",
       "      <td>1</td>\n",
       "    </tr>\n",
       "    <tr>\n",
       "      <th>2</th>\n",
       "      <td>1</td>\n",
       "    </tr>\n",
       "    <tr>\n",
       "      <th>3</th>\n",
       "      <td>0</td>\n",
       "    </tr>\n",
       "    <tr>\n",
       "      <th>4</th>\n",
       "      <td>0</td>\n",
       "    </tr>\n",
       "    <tr>\n",
       "      <th>...</th>\n",
       "      <td>...</td>\n",
       "    </tr>\n",
       "    <tr>\n",
       "      <th>9995</th>\n",
       "      <td>1</td>\n",
       "    </tr>\n",
       "    <tr>\n",
       "      <th>9996</th>\n",
       "      <td>0</td>\n",
       "    </tr>\n",
       "    <tr>\n",
       "      <th>9997</th>\n",
       "      <td>0</td>\n",
       "    </tr>\n",
       "    <tr>\n",
       "      <th>9998</th>\n",
       "      <td>0</td>\n",
       "    </tr>\n",
       "    <tr>\n",
       "      <th>9999</th>\n",
       "      <td>1</td>\n",
       "    </tr>\n",
       "  </tbody>\n",
       "</table>\n",
       "<p>10000 rows × 1 columns</p>\n",
       "</div>"
      ],
      "text/plain": [
       "      0\n",
       "0     1\n",
       "1     1\n",
       "2     1\n",
       "3     0\n",
       "4     0\n",
       "...  ..\n",
       "9995  1\n",
       "9996  0\n",
       "9997  0\n",
       "9998  0\n",
       "9999  1\n",
       "\n",
       "[10000 rows x 1 columns]"
      ]
     },
     "execution_count": 123,
     "metadata": {},
     "output_type": "execute_result"
    }
   ],
   "source": [
    "my_answer"
   ]
  },
  {
   "cell_type": "code",
   "execution_count": 124,
   "id": "734777be",
   "metadata": {},
   "outputs": [],
   "source": [
    "my_answer.columns = ['prediction']"
   ]
  },
  {
   "cell_type": "code",
   "execution_count": 125,
   "id": "669e20d3",
   "metadata": {},
   "outputs": [],
   "source": [
    "my_answer['id'] = list(range(10000))"
   ]
  },
  {
   "cell_type": "code",
   "execution_count": 126,
   "id": "9db126be",
   "metadata": {},
   "outputs": [],
   "source": [
    "my_answer.to_csv('prediction_linclass.csv', index = False)"
   ]
  },
  {
   "cell_type": "code",
   "execution_count": null,
   "id": "19ed1c57",
   "metadata": {},
   "outputs": [],
   "source": []
  },
  {
   "cell_type": "code",
   "execution_count": null,
   "id": "9afe0b0e",
   "metadata": {},
   "outputs": [],
   "source": []
  },
  {
   "cell_type": "code",
   "execution_count": null,
   "id": "b043312a",
   "metadata": {},
   "outputs": [],
   "source": []
  }
 ],
 "metadata": {
  "kernelspec": {
   "display_name": "Python 3",
   "language": "python",
   "name": "python3"
  },
  "language_info": {
   "codemirror_mode": {
    "name": "ipython",
    "version": 3
   },
   "file_extension": ".py",
   "mimetype": "text/x-python",
   "name": "python",
   "nbconvert_exporter": "python",
   "pygments_lexer": "ipython3",
   "version": "3.8.8"
  }
 },
 "nbformat": 4,
 "nbformat_minor": 5
}
